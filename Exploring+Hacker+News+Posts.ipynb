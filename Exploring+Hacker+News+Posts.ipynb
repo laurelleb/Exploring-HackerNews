{
 "cells": [
  {
   "cell_type": "markdown",
   "metadata": {
    "collapsed": true
   },
   "source": [
    "# Exploration and Analysis of *Hacker News* Posts\n",
    "\n",
    "*Hacker News* is a popular technology website which allows users to share their questions and projects with the world. In this specific project, I shall analyze \"Ask HN\" psosts and \"Show HN\" posts to discover:\n",
    "\n",
    "    - which section of the HN forums have the most activity and\n",
    "    - which time is the best to attract the most comments to a post.\n",
    " \n",
    "The dataset for this project can be found [here] (https://www.kaggle.com/hacker-news/hacker-news-posts). I will be working with a small portion of the data because the original dataset contains 300,000 rows. The version of the dataset used in this project contains 20,000 rows - a result of removing posts with no comments - which I also think suggests something interesting. From there, a random sample of the remaining submissions from the 2016 dataset was finalizedled by Dataquest and posted to Kaggle.com.\n",
    "\n",
    "My key learning objectives for this project are:\n",
    "\n",
    "    - filtering\n",
    "    - and working with datetime objects\n",
    "    \n",
    "I begin by opening the file and removeing the header row to ease manipulation of the dataset."
   ]
  },
  {
   "cell_type": "code",
   "execution_count": 1,
   "metadata": {
    "collapsed": false
   },
   "outputs": [
    {
     "name": "stdout",
     "output_type": "stream",
     "text": [
      "[['id', 'title', 'url', 'num_points', 'num_comments', 'author', 'created_at'], ['12224879', 'Interactive Dynamic Video', 'http://www.interactivedynamicvideo.com/', '386', '52', 'ne0phyte', '8/4/2016 11:52'], ['10975351', 'How to Use Open Source and Shut the Fuck Up at the Same Time', 'http://hueniverse.com/2016/01/26/how-to-use-open-source-and-shut-the-fuck-up-at-the-same-time/', '39', '10', 'josep2', '1/26/2016 19:30'], ['11964716', \"Florida DJs May Face Felony for April Fools' Water Joke\", 'http://www.thewire.com/entertainment/2013/04/florida-djs-april-fools-water-joke/63798/', '2', '1', 'vezycash', '6/23/2016 22:20'], ['11919867', 'Technology ventures: From Idea to Enterprise', 'https://www.amazon.com/Technology-Ventures-Enterprise-Thomas-Byers/dp/0073523429', '3', '1', 'hswarna', '6/17/2016 0:01']] \n",
      "\n"
     ]
    }
   ],
   "source": [
    "# open file\n",
    "from csv import reader\n",
    "opened_file = open('hacker_news.csv')\n",
    "read_file = reader(opened_file)\n",
    "hn = list(read_file)\n",
    "\n",
    "# I like to look at samples of the data throughout my working process\n",
    "# to verify that the result is what I need\n",
    "print(hn[0:5], \"\\n\")\n"
   ]
  },
  {
   "cell_type": "code",
   "execution_count": 2,
   "metadata": {
    "collapsed": false
   },
   "outputs": [
    {
     "name": "stdout",
     "output_type": "stream",
     "text": [
      "['id', 'title', 'url', 'num_points', 'num_comments', 'author', 'created_at']\n",
      "\n",
      "\n",
      "[['12224879', 'Interactive Dynamic Video', 'http://www.interactivedynamicvideo.com/', '386', '52', 'ne0phyte', '8/4/2016 11:52'], ['10975351', 'How to Use Open Source and Shut the Fuck Up at the Same Time', 'http://hueniverse.com/2016/01/26/how-to-use-open-source-and-shut-the-fuck-up-at-the-same-time/', '39', '10', 'josep2', '1/26/2016 19:30'], ['11964716', \"Florida DJs May Face Felony for April Fools' Water Joke\", 'http://www.thewire.com/entertainment/2013/04/florida-djs-april-fools-water-joke/63798/', '2', '1', 'vezycash', '6/23/2016 22:20'], ['11919867', 'Technology ventures: From Idea to Enterprise', 'https://www.amazon.com/Technology-Ventures-Enterprise-Thomas-Byers/dp/0073523429', '3', '1', 'hswarna', '6/17/2016 0:01'], ['10301696', 'Note by Note: The Making of Steinway L1037 (2007)', 'http://www.nytimes.com/2007/11/07/movies/07stein.html?_r=0', '8', '2', 'walterbell', '9/30/2015 4:12']] \n",
      "\n"
     ]
    }
   ],
   "source": [
    "# extract the first row of data\n",
    "\n",
    "headers = hn[0] \n",
    "hn = hn[1:] # hn contains the data without the header\n",
    "\n",
    "print(headers)\n",
    "print('\\n')\n",
    "print(hn[0:5], \"\\n\")"
   ]
  },
  {
   "cell_type": "markdown",
   "metadata": {},
   "source": [
    "The following section accomplishes two main tasks. The first being extracting and separating the data for \"Ask HN\", \"Show HN\", and other posts. The second task is to find which type of posts - in either \"Ask HN\" or \"Show HN\" - receive more comments on average. "
   ]
  },
  {
   "cell_type": "code",
   "execution_count": 3,
   "metadata": {
    "collapsed": false
   },
   "outputs": [
    {
     "name": "stdout",
     "output_type": "stream",
     "text": [
      "Number of 'Ask HN' posts:  1744\n",
      "Number of 'Show HN' posts:  1162\n",
      "Number of Other posts:  17194\n",
      "\n",
      "\n",
      "A sample of 'Ask HN' posts [['12296411', 'Ask HN: How to improve my personal website?', '', '2', '6', 'ahmedbaracat', '8/16/2016 9:55'], ['10610020', 'Ask HN: Am I the only one outraged by Twitter shutting down share counts?', '', '28', '29', 'tkfx', '11/22/2015 13:43'], ['11610310', 'Ask HN: Aby recent changes to CSS that broke mobile?', '', '1', '1', 'polskibus', '5/2/2016 10:14'], ['12210105', 'Ask HN: Looking for Employee #3 How do I do it?', '', '1', '3', 'sph130', '8/2/2016 14:20'], ['10394168', 'Ask HN: Someone offered to buy my browser extension from me. What now?', '', '28', '17', 'roykolak', '10/15/2015 16:38'], ['10284812', 'Ask HN: Limiting CPU, memory, and I/O usage on a program for testing', '', '2', '1', 'zatkin', '9/26/2015 23:23']]\n",
      "\n",
      "\n",
      "A sample of 'Show HN' posts [['10627194', 'Show HN: Wio Link  ESP8266 Based Web of Things Hardware Development Platform', 'https://iot.seeed.cc', '26', '22', 'kfihihc', '11/25/2015 14:03'], ['10646440', 'Show HN: Something pointless I made', 'http://dn.ht/picklecat/', '747', '102', 'dhotson', '11/29/2015 22:46'], ['11590768', 'Show HN: Shanhu.io, a programming playground powered by e8vm', 'https://shanhu.io', '1', '1', 'h8liu', '4/28/2016 18:05'], ['12178806', 'Show HN: Webscope  Easy way for web developers to communicate with Clients', 'http://webscopeapp.com', '3', '3', 'fastbrick', '7/28/2016 7:11'], ['10872799', 'Show HN: GeoScreenshot  Easily test Geo-IP based web pages', 'https://www.geoscreenshot.com/', '1', '9', 'kpsychwave', '1/9/2016 20:45'], ['11237259', 'Show HN: Run with Mark (Runkeeper only)', 'http://runwithmark.github.io/#/', '3', '3', 'ecesena', '3/7/2016 5:17']]\n"
     ]
    }
   ],
   "source": [
    "# t\n",
    "ask_posts = []\n",
    "show_posts = []\n",
    "other_posts = []\n",
    "\n",
    "for row in hn:\n",
    "    title = row[1]\n",
    "    title = title.lower()\n",
    "    if title.startswith('ask hn'):\n",
    "        ask_posts.append(row)\n",
    "    elif title.startswith('show hn'):\n",
    "        show_posts.append(row)\n",
    "    else:\n",
    "        other_posts.append(row)\n",
    "\n",
    "print(\"Number of 'Ask HN' posts: \", len(ask_posts))\n",
    "print(\"Number of 'Show HN' posts: \", len(show_posts))\n",
    "print(\"Number of Other posts: \", len(other_posts))\n",
    "print('\\n')\n",
    "print(\"A sample of 'Ask HN' posts\", ask_posts[0:6])\n",
    "print('\\n')\n",
    "print(\"A sample of 'Show HN' posts\", show_posts[0:6])"
   ]
  },
  {
   "cell_type": "code",
   "execution_count": 4,
   "metadata": {
    "collapsed": false
   },
   "outputs": [
    {
     "name": "stdout",
     "output_type": "stream",
     "text": [
      "Average number of Ask HN comments:  14.038417431192661\n",
      "Average number of Show HN comments:  10.31669535283993\n"
     ]
    }
   ],
   "source": [
    "# average number of comments in ask hn posts and show hn posts\n",
    "# ask hn comment average\n",
    "total_ask_comments = 0\n",
    "\n",
    "# looking at ask posts\n",
    "for row in ask_posts:\n",
    "    total_ask_comments +=  int(row[4])\n",
    "avg_ask_comments = total_ask_comments/len(ask_posts)\n",
    "print('Average number of Ask HN comments: ',avg_ask_comments)\n",
    "\n",
    "# average number of comments is show hn posts\n",
    "total_show_comments = 0\n",
    "\n",
    "for row in show_posts:\n",
    "    total_show_comments += int(row[4])\n",
    "avg_show_comments = total_show_comments/len(show_posts)\n",
    "print('Average number of Show HN comments: ', avg_show_comments)\n",
    "    "
   ]
  },
  {
   "cell_type": "markdown",
   "metadata": {},
   "source": [
    "# What does the average number of posts tell us about Hacker News?\n",
    "\n",
    "On average, Ask HN posts have more comments than the Share HN posts. Based on this one aspect, I can deduce that users of the website either leave comments on Ask HN to learn about the issues they might be facing for similar problems or to help other users through their questions. On the other hand, I speculate that there are fewer comments on the Show HN posts because it is not the forum to explore ideas. \n",
    "\n",
    "I will analyze \"Ask HN\" posts because it has more comments on average compared to \"Show HN\" posts. I will work with the datetime library for the rest of the project to analyze which times of the day receive the most comments on a post. \n"
   ]
  },
  {
   "cell_type": "code",
   "execution_count": 5,
   "metadata": {
    "collapsed": false
   },
   "outputs": [
    {
     "name": "stdout",
     "output_type": "stream",
     "text": [
      "The number of posts by hour:  {'15': 116, '03': 54, '17': 100, '07': 34, '20': 80, '14': 107, '08': 48, '12': 73, '04': 47, '22': 71, '21': 109, '02': 58, '23': 68, '11': 58, '13': 85, '09': 45, '16': 108, '00': 55, '06': 44, '01': 60, '10': 59, '19': 110, '05': 46, '18': 109}\n",
      "\n",
      "\n",
      "The number of comments by hour:  {'15': 4477, '03': 421, '17': 1146, '07': 267, '20': 1722, '14': 1416, '08': 492, '12': 687, '04': 337, '22': 479, '21': 1745, '02': 1381, '23': 543, '11': 641, '13': 1253, '09': 251, '16': 1814, '00': 447, '06': 397, '01': 683, '10': 793, '19': 1188, '05': 464, '18': 1439}\n"
     ]
    }
   ],
   "source": [
    "# import datetime to calculate the amount of ask posts by the hour created\n",
    "\n",
    "import datetime as dt\n",
    "\n",
    "result_list = []\n",
    "for element in ask_posts:\n",
    "    created_at = element[6]\n",
    "    num_comments = int(element[4])\n",
    "    element_list = [created_at, num_comments]\n",
    "    result_list.append(element_list)\n",
    "# print(result_list)\n",
    "\n",
    "# create dictionaries to separate values\n",
    "counts_by_hour={}\n",
    "comments_by_hour={}\n",
    "date_format= \"%m/%d/%Y %H:%M\" # weekday, dd/mm/yyyy\n",
    "\n",
    "for row in result_list:\n",
    "    hour = row[0] # extracts hour value from the date\n",
    "    comment = row[1]\n",
    "    date_created = dt.datetime.strptime(hour, date_format).strftime(\"%H\")\n",
    "    \n",
    "    if date_created not in counts_by_hour:\n",
    "        counts_by_hour[date_created] = 1\n",
    "        comments_by_hour[date_created] = comment\n",
    "    else:\n",
    "        counts_by_hour[date_created] += 1\n",
    "        comments_by_hour[date_created] += comment\n",
    "    \n",
    "print(\"The number of posts by hour: \", counts_by_hour)\n",
    "print(\"\\n\")\n",
    "print(\"The number of comments by hour: \", comments_by_hour)"
   ]
  },
  {
   "cell_type": "markdown",
   "metadata": {},
   "source": [
    "# Finding the average number of comments per post\n",
    "\n",
    "In the section above, I found the number of post and the number of comments by the hour of the day. Using this information, I will calculate the average number of comments per post by the hour of the day. Afterwards, I will analyze user engagement.  "
   ]
  },
  {
   "cell_type": "code",
   "execution_count": 6,
   "metadata": {
    "collapsed": false
   },
   "outputs": [
    {
     "name": "stdout",
     "output_type": "stream",
     "text": [
      "For hour 00 the average number of comments per post is 8.13\n",
      "For hour 01 the average number of comments per post is 11.38\n",
      "For hour 02 the average number of comments per post is 23.81\n",
      "For hour 03 the average number of comments per post is 7.80\n",
      "For hour 04 the average number of comments per post is 7.17\n",
      "For hour 05 the average number of comments per post is 10.09\n",
      "For hour 06 the average number of comments per post is 9.02\n",
      "For hour 07 the average number of comments per post is 7.85\n",
      "For hour 08 the average number of comments per post is 10.25\n",
      "For hour 09 the average number of comments per post is 5.58\n",
      "For hour 10 the average number of comments per post is 13.44\n",
      "For hour 11 the average number of comments per post is 11.05\n",
      "For hour 12 the average number of comments per post is 9.41\n",
      "For hour 13 the average number of comments per post is 14.74\n",
      "For hour 14 the average number of comments per post is 13.23\n",
      "For hour 15 the average number of comments per post is 38.59\n",
      "For hour 16 the average number of comments per post is 16.80\n",
      "For hour 17 the average number of comments per post is 11.46\n",
      "For hour 18 the average number of comments per post is 13.20\n",
      "For hour 19 the average number of comments per post is 10.80\n",
      "For hour 20 the average number of comments per post is 21.52\n",
      "For hour 21 the average number of comments per post is 16.01\n",
      "For hour 22 the average number of comments per post is 6.75\n",
      "For hour 23 the average number of comments per post is 7.99\n"
     ]
    }
   ],
   "source": [
    "\"\"\"\n",
    "Finding the average number of comments per post during each hour of the day. \n",
    "Can find the time when users are mopre likely to be active.\n",
    "I may be able to make some assumptions or conclusions about user activity.\n",
    "\n",
    "\"\"\"\n",
    "\n",
    "avgcp_by_hour = [] # empty list of lists that represents the avg comments per post by hour \n",
    "\n",
    "for hour in comments_by_hour:\n",
    "    average = comments_by_hour[hour]/counts_by_hour[hour]\n",
    "    avgcp_by_hour.append([hour, average])\n",
    "\n",
    "# sorting in ascending order by hour\n",
    "avgcp_by_hour.sort()\n",
    "\n",
    "# printing the results in a readable format\n",
    "output = \"For hour {} the average number of comments per post is {:.2f}\"\n",
    "\n",
    "for row in avgcp_by_hour:\n",
    "        print(output.format(row[0], row[1]))"
   ]
  },
  {
   "cell_type": "markdown",
   "metadata": {
    "collapsed": true
   },
   "source": [
    "In the next section, I will continue to work on the formatting and extrapolate some findings based on the hours that have the highest average comments per post. \n"
   ]
  },
  {
   "cell_type": "code",
   "execution_count": 7,
   "metadata": {
    "collapsed": false
   },
   "outputs": [
    {
     "name": "stdout",
     "output_type": "stream",
     "text": [
      "Top 5 Hours for Ask Posts Comments \n",
      "\n",
      "At time 15:00: averages 38.59 comments per post\n",
      "At time 02:00: averages 23.81 comments per post\n",
      "At time 20:00: averages 21.52 comments per post\n",
      "At time 16:00: averages 16.80 comments per post\n",
      "At time 21:00: averages 16.01 comments per post\n"
     ]
    }
   ],
   "source": [
    "#sorts list by average number of comments\n",
    "\n",
    "swap_avg_by_hour = []\n",
    "for row in avgcp_by_hour:\n",
    "    hour = row[0]\n",
    "    avg = row[1]\n",
    "    swap_avg_by_hour.append([avg, hour]) \n",
    "\n",
    "sorted_swap = sorted (swap_avg_by_hour, reverse=True)\n",
    "# sorts the list in descending order by highest average comment number to lowest\n",
    "\n",
    "# Displaying the results in a neat format\n",
    "print(\"Top 5 Hours for Ask Posts Comments\", \"\\n\")\n",
    "output = \"At time {}: averages {:.2f} comments per post\"\n",
    "\n",
    "top_5_times = sorted_swap[:5]\n",
    "for row in top_5_times:\n",
    "    time = dt.datetime.strptime(str(row[1]), \"%H\")\n",
    "    formatted_time = time.strftime(\"%H:%M\")\n",
    "    print(output.format(formatted_time, row[0]))"
   ]
  },
  {
   "cell_type": "markdown",
   "metadata": {},
   "source": [
    "The values above represent the best times to post to Hacker News’ Asks Posts to receive the most feedback. The above times are in Eastern Standard Time (US – NYC). Based off the times with the highest average of posts, there is activity on the forum throughout the day. However, because the dataset collects information based on the timezone of one part of the world, the dates and times are skewed to an American audience. Hacker News has a global reach and a global userbase. To make these results more accessible, converting to the time zone of resident would be helpful."
   ]
  },
  {
   "cell_type": "markdown",
   "metadata": {},
   "source": [
    "## Conclusions:\n",
    "\n",
    "Based upon the results from the average number of comments by hour, posters either add a comment in the afternoon, night or early morning. The top average number of comments seem to occur at 15:00 EST during work hours. This suggests that people take a peek at the HN site towards the end of the traditional work day. People might comment on a post to take a break. The same could be said for 16:00 EST. An hour before the end of the workday, people tend to be more distracted. The other top hours to post a comment are outside of traditional working hours. Additionally, the times are after common dinner times or after a child’s bedtime. People pop into the \"Ask HN\" forum after completing the days tasks. Again, these comments are posted at times when people have a lull in their day. I find it interesting that the 2:00 EST time has one of the top five most comments per post. This suggests a few things, some people are staying up late, waking up early, or most reasonably, people from other parts of the world are starting or ending their days and have the time to post a comment. Hence, the importance of converting to different time zones.\n",
    "\n",
    "These odd bunches of times represent the hours when \"Ask HN\" forums are most active. If someone has a question to ask, posting within those top five hours would most likely receive the most comments.\n",
    "\n"
   ]
  },
  {
   "cell_type": "markdown",
   "metadata": {},
   "source": [
    "### Ideas for Further Analysis\n",
    "\n",
    "For further analysis, I would like to\n",
    "\n",
    "- Determine if show or ask posts receive more points on average.\n",
    "- Determine if posts created at a certain time are more likely to receive more points.\n",
    "- Compare your results to the average number of comments and points other posts receive."
   ]
  }
 ],
 "metadata": {
  "kernelspec": {
   "display_name": "Python 3",
   "language": "python",
   "name": "python3"
  },
  "language_info": {
   "codemirror_mode": {
    "name": "ipython",
    "version": 3
   },
   "file_extension": ".py",
   "mimetype": "text/x-python",
   "name": "python",
   "nbconvert_exporter": "python",
   "pygments_lexer": "ipython3",
   "version": "3.4.3"
  }
 },
 "nbformat": 4,
 "nbformat_minor": 2
}